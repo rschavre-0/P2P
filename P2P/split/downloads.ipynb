{
 "cells": [
  {
   "cell_type": "code",
   "execution_count": 1,
   "id": "0f2dd8ed",
   "metadata": {},
   "outputs": [],
   "source": [
    "from cryptography.fernet import Fernet\n",
    "import codecs"
   ]
  },
  {
   "cell_type": "code",
   "execution_count": 2,
   "id": "2d73dd35",
   "metadata": {},
   "outputs": [],
   "source": [
    "def decryption(filename, key_name):\n",
    "    with open(key_name, 'rb') as filekey:\n",
    "        key = filekey.read()\n",
    "    \n",
    "    fernet = Fernet(key)\n",
    "\n",
    "    with open(filename, 'rb') as enc_file:\n",
    "        encrypted = enc_file.read()\n",
    "\n",
    "    decrypted = fernet.decrypt(encrypted)\n",
    "\n",
    "    with open('decrypted_'+filename, 'wb') as dec_file:\n",
    "        dec_file.write(decrypted)"
   ]
  },
  {
   "cell_type": "code",
   "execution_count": 3,
   "id": "02771ce6",
   "metadata": {},
   "outputs": [],
   "source": [
    "def get_data(x, y, mainkey):\n",
    "\n",
    "    with open(x, 'rb') as enc_file:\n",
    "        packet1 = enc_file.read() \n",
    "    with open(y, 'rb') as enc_file:\n",
    "        packet2 = enc_file.read() \n",
    "    packet1 = str(packet1)[2:-1]\n",
    "    packet2 = str(packet2)[2:-1]\n",
    "\n",
    "    parts = [packet1[:int(len(packet1)/2)], packet1[int(len(packet1)/2):], packet2[:int(len(packet2)/2)], packet2[int(len(packet2)/2):]] \n",
    "    padding = int(parts[0][1])\n",
    "    \n",
    "    order = dict()\n",
    "    for part in parts:\n",
    "        num = int(part[0])\n",
    "        if num not in order:\n",
    "            order[num] = part[2:]\n",
    "    \n",
    "    final = \"\"\n",
    "    for key in sorted(order):\n",
    "        final = final + (order[key])\n",
    "        \n",
    "    if padding ==0:\n",
    "        final = final[2:-1]\n",
    "    elif padding == 1:\n",
    "        final = final[2:-2]\n",
    "    else:\n",
    "        final = final[2:-3]\n",
    "    final = bytes(final, encoding='utf8')\n",
    "    \n",
    "    with open('final_encrypted.txt', 'wb') as dec_file:\n",
    "        dec_file.write(final)\n",
    "    \n",
    "    decryption('final_encrypted.txt', mainkey)"
   ]
  },
  {
   "cell_type": "code",
   "execution_count": 5,
   "id": "b93ac5b1",
   "metadata": {},
   "outputs": [],
   "source": [
    "get_data('./downloads/packet2.txt', './downloads/packet3.txt', 'hash.key')"
   ]
  },
  {
   "cell_type": "code",
   "execution_count": null,
   "id": "4c4a07f3",
   "metadata": {},
   "outputs": [],
   "source": []
  }
 ],
 "metadata": {
  "kernelspec": {
   "display_name": "Python 3 (ipykernel)",
   "language": "python",
   "name": "python3"
  },
  "language_info": {
   "codemirror_mode": {
    "name": "ipython",
    "version": 3
   },
   "file_extension": ".py",
   "mimetype": "text/x-python",
   "name": "python",
   "nbconvert_exporter": "python",
   "pygments_lexer": "ipython3",
   "version": "3.9.7"
  }
 },
 "nbformat": 4,
 "nbformat_minor": 5
}
