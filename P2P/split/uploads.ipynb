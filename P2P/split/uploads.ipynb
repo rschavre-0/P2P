{
 "cells": [
  {
   "cell_type": "code",
   "execution_count": 335,
   "id": "0f2dd8ed",
   "metadata": {},
   "outputs": [],
   "source": [
    "from cryptography.fernet import Fernet\n",
    "import codecs"
   ]
  },
  {
   "cell_type": "code",
   "execution_count": 336,
   "id": "2cc04a41",
   "metadata": {},
   "outputs": [],
   "source": [
    "def encryption(file, filename, key_name):\n",
    "    key = Fernet.generate_key()\n",
    "  \n",
    "    with open(key_name, 'wb') as filekey:\n",
    "        filekey.write(key)\n",
    "    \n",
    "    with open(key_name, 'rb') as filekey:\n",
    "        key = filekey.read()\n",
    "  \n",
    "    fernet = Fernet(key)\n",
    "\n",
    "    encrypted = fernet.encrypt(file)\n",
    "\n",
    "    with open('encrypted_' + filename, 'wb') as encrypted_file:\n",
    "        encrypted_file.write(encrypted)"
   ]
  },
  {
   "cell_type": "code",
   "execution_count": 337,
   "id": "461e9feb",
   "metadata": {},
   "outputs": [],
   "source": [
    "def meta_data(encrypted):\n",
    "    encrypted = (str(encrypted))\n",
    "    padding = abs((len(encrypted))%(-3))\n",
    "    \n",
    "    if padding==2:\n",
    "        encrypted = encrypted + \"00\"\n",
    "    elif padding==1:\n",
    "        encrypted = encrypted + \"0\"\n",
    "        \n",
    "    part1 = encrypted[:int(len(encrypted)/3)]\n",
    "    part2 = encrypted[int(len(encrypted)/3):2*int(len(encrypted)/3)]\n",
    "    part3 = encrypted[2*int(len(encrypted)/3):]\n",
    "    \n",
    "    part1 = '1' + str(padding) + part1\n",
    "    part2 = '2' + str(padding)  + part2\n",
    "    part3 = '3' + str(padding) + part3\n",
    "    \n",
    "    packet1 = part1 + part2\n",
    "    packet2 = part2 + part3\n",
    "    packet3 = part3 + part1\n",
    "    \n",
    "    with open('./uploads/packet1.txt', 'wb') as dec_file:\n",
    "        dec_file.write(bytes(packet1, encoding='utf8'))\n",
    "    \n",
    "    with open('./uploads/packet2.txt', 'wb') as dec_file:\n",
    "        dec_file.write(bytes(packet2, encoding='utf8'))\n",
    "        \n",
    "    with open('./uploads/packet3.txt', 'wb') as dec_file:\n",
    "        dec_file.write(bytes(packet3, encoding='utf8'))"
   ]
  },
  {
   "cell_type": "code",
   "execution_count": 338,
   "id": "d5d061ad",
   "metadata": {},
   "outputs": [],
   "source": [
    "# opening the original file to encrypt\n",
    "filename = 'sample.txt'\n",
    "with open(filename, 'rb') as file:\n",
    "    original = file.read()\n",
    "\n",
    "encryption(original, filename, 'hash.key')"
   ]
  },
  {
   "cell_type": "code",
   "execution_count": 339,
   "id": "c16dfba6",
   "metadata": {},
   "outputs": [],
   "source": [
    "filename = 'encrypted_sample.txt'\n",
    "with open(filename, 'rb') as enc_file:\n",
    "    encrypted = enc_file.read()\n",
    "\n",
    "meta_data(encrypted)"
   ]
  },
  {
   "cell_type": "code",
   "execution_count": null,
   "id": "0f68cbdf",
   "metadata": {},
   "outputs": [],
   "source": []
  }
 ],
 "metadata": {
  "kernelspec": {
   "display_name": "Python 3 (ipykernel)",
   "language": "python",
   "name": "python3"
  },
  "language_info": {
   "codemirror_mode": {
    "name": "ipython",
    "version": 3
   },
   "file_extension": ".py",
   "mimetype": "text/x-python",
   "name": "python",
   "nbconvert_exporter": "python",
   "pygments_lexer": "ipython3",
   "version": "3.9.7"
  }
 },
 "nbformat": 4,
 "nbformat_minor": 5
}
